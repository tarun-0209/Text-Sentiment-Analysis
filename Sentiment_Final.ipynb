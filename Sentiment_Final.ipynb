{
  "cells": [
    {
      "cell_type": "code",
      "execution_count": 1,
      "metadata": {
        "id": "X04JmU_zfobP"
      },
      "outputs": [],
      "source": [
        "import pandas as pd\n",
        "df = pd.read_csv(\"dataset.csv\")"
      ]
    },
    {
      "cell_type": "code",
      "execution_count": 2,
      "metadata": {
        "colab": {
          "base_uri": "https://localhost:8080/",
          "height": 905
        },
        "id": "PC93ZaQZhCES",
        "outputId": "da7e0102-97f1-4ef0-e9e1-434a30af0a3c"
      },
      "outputs": [
        {
          "data": {
            "application/vnd.google.colaboratory.intrinsic+json": {
              "summary": "{\n  \"name\": \"df\",\n  \"rows\": 100000,\n  \"fields\": [\n    {\n      \"column\": \"label\",\n      \"properties\": {\n        \"dtype\": \"number\",\n        \"std\": 2,\n        \"min\": 0,\n        \"max\": 4,\n        \"samples\": [\n          0,\n          4\n        ],\n        \"num_unique_values\": 2,\n        \"semantic_type\": \"\",\n        \"description\": \"\"\n      }\n    },\n    {\n      \"column\": \"text\",\n      \"properties\": {\n        \"dtype\": \"string\",\n        \"samples\": [\n          \"Not worth the troubles. Waited TWO hours for a delivery. Finally had to cancel the order. There just is no reason for a pizza delivery place in the Las Vegas Valley to take that long to make pizza and deliver it. There are plenty of other places to get a pizza delivered. Steer clear of Monte's Pizza Restaurant.\",\n          \"No Vegas Trip is complete without a trip to Earl of Sandwich!!!  Seriously, the best 5.99 you will ever spend in Vegas, because you are guaranteed hot deliciousness.\\\\n\\\\nFor a long time I heard the buzz of famous Earl of Sandwiches and I was worried that they would not live up to the hype.  But during 2011 I had the opportunity to make two trips to Vegas and I finally go to experience the amazingness for myself.   \\\\n\\\\nI have tried the following two of the sandwiches on the menu:\\\\n\\\\nThe Full Montagu- Roast beef, turkey, swiss, cheddar, lettuce, tomatoes, and of course yummy mustard.  It is called the full montagu for a reason.  It really has all of the sandwich essentials.  At 3 am it was worth the extra cab ride.\\\\n\\\\nThe Original - Roast beef, cheddar, and horseradish.  Of the two I think this was my favorite.  It was uncomplicated and gets straight to the meaty cheesy flavor with a tiny kick of the creamy horseradish.  So it doesn't have any vegetables...you don't go to Vegas to eat healthy!  \\\\n\\\\nHere are some fun facts/helpful tips:\\\\n\\\\n1.  It is open 24 hours so if you had a little too much fun in the night, don't worry you can always get your grub on at any time\\\\n\\\\n2. Divide and conquer! Send someone to scout and grab a table and send someone else to place the orders that way by the time your food is ready you should have a place to enjoy and rest your sore feet\\\\n\\\\nOVERALL: A MUST GO!\"\n        ],\n        \"num_unique_values\": 100000,\n        \"semantic_type\": \"\",\n        \"description\": \"\"\n      }\n    }\n  ]\n}",
              "type": "dataframe",
              "variable_name": "df"
            },
            "text/html": [
              "\n",
              "  <div id=\"df-7f3769ef-5d8f-4c20-831d-6bb3d183d5e1\" class=\"colab-df-container\">\n",
              "    <div>\n",
              "<style scoped>\n",
              "    .dataframe tbody tr th:only-of-type {\n",
              "        vertical-align: middle;\n",
              "    }\n",
              "\n",
              "    .dataframe tbody tr th {\n",
              "        vertical-align: top;\n",
              "    }\n",
              "\n",
              "    .dataframe thead th {\n",
              "        text-align: right;\n",
              "    }\n",
              "</style>\n",
              "<table border=\"1\" class=\"dataframe\">\n",
              "  <thead>\n",
              "    <tr style=\"text-align: right;\">\n",
              "      <th></th>\n",
              "      <th>label</th>\n",
              "      <th>text</th>\n",
              "    </tr>\n",
              "  </thead>\n",
              "  <tbody>\n",
              "    <tr>\n",
              "      <th>0</th>\n",
              "      <td>4</td>\n",
              "      <td>Any time I want sushi, Yama is the place to go...</td>\n",
              "    </tr>\n",
              "    <tr>\n",
              "      <th>1</th>\n",
              "      <td>4</td>\n",
              "      <td>People stop ordering TexMex type foods here. T...</td>\n",
              "    </tr>\n",
              "    <tr>\n",
              "      <th>2</th>\n",
              "      <td>0</td>\n",
              "      <td>We were greeted at the door so that was nice. ...</td>\n",
              "    </tr>\n",
              "    <tr>\n",
              "      <th>3</th>\n",
              "      <td>4</td>\n",
              "      <td>I actually found Lychee liquor there!  Need I ...</td>\n",
              "    </tr>\n",
              "    <tr>\n",
              "      <th>4</th>\n",
              "      <td>4</td>\n",
              "      <td>Thank you,  Barrymore for hosting our wedding ...</td>\n",
              "    </tr>\n",
              "    <tr>\n",
              "      <th>5</th>\n",
              "      <td>4</td>\n",
              "      <td>Got a small taro snow with red bean and conden...</td>\n",
              "    </tr>\n",
              "    <tr>\n",
              "      <th>6</th>\n",
              "      <td>4</td>\n",
              "      <td>When my husband and I first moved here, we saw...</td>\n",
              "    </tr>\n",
              "    <tr>\n",
              "      <th>7</th>\n",
              "      <td>4</td>\n",
              "      <td>I don't know why the other review was so disap...</td>\n",
              "    </tr>\n",
              "    <tr>\n",
              "      <th>8</th>\n",
              "      <td>4</td>\n",
              "      <td>This place is super packed on Saturday &amp; Sunda...</td>\n",
              "    </tr>\n",
              "    <tr>\n",
              "      <th>9</th>\n",
              "      <td>4</td>\n",
              "      <td>The food and the service was great. A good kic...</td>\n",
              "    </tr>\n",
              "    <tr>\n",
              "      <th>10</th>\n",
              "      <td>0</td>\n",
              "      <td>This restaurant is mediocre Chinese type at be...</td>\n",
              "    </tr>\n",
              "    <tr>\n",
              "      <th>11</th>\n",
              "      <td>0</td>\n",
              "      <td>Fukuda is closed. It's now Lomito, a South Ame...</td>\n",
              "    </tr>\n",
              "    <tr>\n",
              "      <th>12</th>\n",
              "      <td>0</td>\n",
              "      <td>First they don't carry any tall sizes.  Americ...</td>\n",
              "    </tr>\n",
              "    <tr>\n",
              "      <th>13</th>\n",
              "      <td>0</td>\n",
              "      <td>Arrived at hotel and went to Lucky Bar to play...</td>\n",
              "    </tr>\n",
              "    <tr>\n",
              "      <th>14</th>\n",
              "      <td>0</td>\n",
              "      <td>I have been to all of the super pawns in town ...</td>\n",
              "    </tr>\n",
              "  </tbody>\n",
              "</table>\n",
              "</div>\n",
              "    <div class=\"colab-df-buttons\">\n",
              "\n",
              "  <div class=\"colab-df-container\">\n",
              "    <button class=\"colab-df-convert\" onclick=\"convertToInteractive('df-7f3769ef-5d8f-4c20-831d-6bb3d183d5e1')\"\n",
              "            title=\"Convert this dataframe to an interactive table.\"\n",
              "            style=\"display:none;\">\n",
              "\n",
              "  <svg xmlns=\"http://www.w3.org/2000/svg\" height=\"24px\" viewBox=\"0 -960 960 960\">\n",
              "    <path d=\"M120-120v-720h720v720H120Zm60-500h600v-160H180v160Zm220 220h160v-160H400v160Zm0 220h160v-160H400v160ZM180-400h160v-160H180v160Zm440 0h160v-160H620v160ZM180-180h160v-160H180v160Zm440 0h160v-160H620v160Z\"/>\n",
              "  </svg>\n",
              "    </button>\n",
              "\n",
              "  <style>\n",
              "    .colab-df-container {\n",
              "      display:flex;\n",
              "      gap: 12px;\n",
              "    }\n",
              "\n",
              "    .colab-df-convert {\n",
              "      background-color: #E8F0FE;\n",
              "      border: none;\n",
              "      border-radius: 50%;\n",
              "      cursor: pointer;\n",
              "      display: none;\n",
              "      fill: #1967D2;\n",
              "      height: 32px;\n",
              "      padding: 0 0 0 0;\n",
              "      width: 32px;\n",
              "    }\n",
              "\n",
              "    .colab-df-convert:hover {\n",
              "      background-color: #E2EBFA;\n",
              "      box-shadow: 0px 1px 2px rgba(60, 64, 67, 0.3), 0px 1px 3px 1px rgba(60, 64, 67, 0.15);\n",
              "      fill: #174EA6;\n",
              "    }\n",
              "\n",
              "    .colab-df-buttons div {\n",
              "      margin-bottom: 4px;\n",
              "    }\n",
              "\n",
              "    [theme=dark] .colab-df-convert {\n",
              "      background-color: #3B4455;\n",
              "      fill: #D2E3FC;\n",
              "    }\n",
              "\n",
              "    [theme=dark] .colab-df-convert:hover {\n",
              "      background-color: #434B5C;\n",
              "      box-shadow: 0px 1px 3px 1px rgba(0, 0, 0, 0.15);\n",
              "      filter: drop-shadow(0px 1px 2px rgba(0, 0, 0, 0.3));\n",
              "      fill: #FFFFFF;\n",
              "    }\n",
              "  </style>\n",
              "\n",
              "    <script>\n",
              "      const buttonEl =\n",
              "        document.querySelector('#df-7f3769ef-5d8f-4c20-831d-6bb3d183d5e1 button.colab-df-convert');\n",
              "      buttonEl.style.display =\n",
              "        google.colab.kernel.accessAllowed ? 'block' : 'none';\n",
              "\n",
              "      async function convertToInteractive(key) {\n",
              "        const element = document.querySelector('#df-7f3769ef-5d8f-4c20-831d-6bb3d183d5e1');\n",
              "        const dataTable =\n",
              "          await google.colab.kernel.invokeFunction('convertToInteractive',\n",
              "                                                    [key], {});\n",
              "        if (!dataTable) return;\n",
              "\n",
              "        const docLinkHtml = 'Like what you see? Visit the ' +\n",
              "          '<a target=\"_blank\" href=https://colab.research.google.com/notebooks/data_table.ipynb>data table notebook</a>'\n",
              "          + ' to learn more about interactive tables.';\n",
              "        element.innerHTML = '';\n",
              "        dataTable['output_type'] = 'display_data';\n",
              "        await google.colab.output.renderOutput(dataTable, element);\n",
              "        const docLink = document.createElement('div');\n",
              "        docLink.innerHTML = docLinkHtml;\n",
              "        element.appendChild(docLink);\n",
              "      }\n",
              "    </script>\n",
              "  </div>\n",
              "\n",
              "\n",
              "<div id=\"df-968c2a1e-685a-4be1-9e2a-6aaeb6508ad8\">\n",
              "  <button class=\"colab-df-quickchart\" onclick=\"quickchart('df-968c2a1e-685a-4be1-9e2a-6aaeb6508ad8')\"\n",
              "            title=\"Suggest charts\"\n",
              "            style=\"display:none;\">\n",
              "\n",
              "<svg xmlns=\"http://www.w3.org/2000/svg\" height=\"24px\"viewBox=\"0 0 24 24\"\n",
              "     width=\"24px\">\n",
              "    <g>\n",
              "        <path d=\"M19 3H5c-1.1 0-2 .9-2 2v14c0 1.1.9 2 2 2h14c1.1 0 2-.9 2-2V5c0-1.1-.9-2-2-2zM9 17H7v-7h2v7zm4 0h-2V7h2v10zm4 0h-2v-4h2v4z\"/>\n",
              "    </g>\n",
              "</svg>\n",
              "  </button>\n",
              "\n",
              "<style>\n",
              "  .colab-df-quickchart {\n",
              "      --bg-color: #E8F0FE;\n",
              "      --fill-color: #1967D2;\n",
              "      --hover-bg-color: #E2EBFA;\n",
              "      --hover-fill-color: #174EA6;\n",
              "      --disabled-fill-color: #AAA;\n",
              "      --disabled-bg-color: #DDD;\n",
              "  }\n",
              "\n",
              "  [theme=dark] .colab-df-quickchart {\n",
              "      --bg-color: #3B4455;\n",
              "      --fill-color: #D2E3FC;\n",
              "      --hover-bg-color: #434B5C;\n",
              "      --hover-fill-color: #FFFFFF;\n",
              "      --disabled-bg-color: #3B4455;\n",
              "      --disabled-fill-color: #666;\n",
              "  }\n",
              "\n",
              "  .colab-df-quickchart {\n",
              "    background-color: var(--bg-color);\n",
              "    border: none;\n",
              "    border-radius: 50%;\n",
              "    cursor: pointer;\n",
              "    display: none;\n",
              "    fill: var(--fill-color);\n",
              "    height: 32px;\n",
              "    padding: 0;\n",
              "    width: 32px;\n",
              "  }\n",
              "\n",
              "  .colab-df-quickchart:hover {\n",
              "    background-color: var(--hover-bg-color);\n",
              "    box-shadow: 0 1px 2px rgba(60, 64, 67, 0.3), 0 1px 3px 1px rgba(60, 64, 67, 0.15);\n",
              "    fill: var(--button-hover-fill-color);\n",
              "  }\n",
              "\n",
              "  .colab-df-quickchart-complete:disabled,\n",
              "  .colab-df-quickchart-complete:disabled:hover {\n",
              "    background-color: var(--disabled-bg-color);\n",
              "    fill: var(--disabled-fill-color);\n",
              "    box-shadow: none;\n",
              "  }\n",
              "\n",
              "  .colab-df-spinner {\n",
              "    border: 2px solid var(--fill-color);\n",
              "    border-color: transparent;\n",
              "    border-bottom-color: var(--fill-color);\n",
              "    animation:\n",
              "      spin 1s steps(1) infinite;\n",
              "  }\n",
              "\n",
              "  @keyframes spin {\n",
              "    0% {\n",
              "      border-color: transparent;\n",
              "      border-bottom-color: var(--fill-color);\n",
              "      border-left-color: var(--fill-color);\n",
              "    }\n",
              "    20% {\n",
              "      border-color: transparent;\n",
              "      border-left-color: var(--fill-color);\n",
              "      border-top-color: var(--fill-color);\n",
              "    }\n",
              "    30% {\n",
              "      border-color: transparent;\n",
              "      border-left-color: var(--fill-color);\n",
              "      border-top-color: var(--fill-color);\n",
              "      border-right-color: var(--fill-color);\n",
              "    }\n",
              "    40% {\n",
              "      border-color: transparent;\n",
              "      border-right-color: var(--fill-color);\n",
              "      border-top-color: var(--fill-color);\n",
              "    }\n",
              "    60% {\n",
              "      border-color: transparent;\n",
              "      border-right-color: var(--fill-color);\n",
              "    }\n",
              "    80% {\n",
              "      border-color: transparent;\n",
              "      border-right-color: var(--fill-color);\n",
              "      border-bottom-color: var(--fill-color);\n",
              "    }\n",
              "    90% {\n",
              "      border-color: transparent;\n",
              "      border-bottom-color: var(--fill-color);\n",
              "    }\n",
              "  }\n",
              "</style>\n",
              "\n",
              "  <script>\n",
              "    async function quickchart(key) {\n",
              "      const quickchartButtonEl =\n",
              "        document.querySelector('#' + key + ' button');\n",
              "      quickchartButtonEl.disabled = true;  // To prevent multiple clicks.\n",
              "      quickchartButtonEl.classList.add('colab-df-spinner');\n",
              "      try {\n",
              "        const charts = await google.colab.kernel.invokeFunction(\n",
              "            'suggestCharts', [key], {});\n",
              "      } catch (error) {\n",
              "        console.error('Error during call to suggestCharts:', error);\n",
              "      }\n",
              "      quickchartButtonEl.classList.remove('colab-df-spinner');\n",
              "      quickchartButtonEl.classList.add('colab-df-quickchart-complete');\n",
              "    }\n",
              "    (() => {\n",
              "      let quickchartButtonEl =\n",
              "        document.querySelector('#df-968c2a1e-685a-4be1-9e2a-6aaeb6508ad8 button');\n",
              "      quickchartButtonEl.style.display =\n",
              "        google.colab.kernel.accessAllowed ? 'block' : 'none';\n",
              "    })();\n",
              "  </script>\n",
              "</div>\n",
              "\n",
              "    </div>\n",
              "  </div>\n"
            ],
            "text/plain": [
              "    label                                               text\n",
              "0       4  Any time I want sushi, Yama is the place to go...\n",
              "1       4  People stop ordering TexMex type foods here. T...\n",
              "2       0  We were greeted at the door so that was nice. ...\n",
              "3       4  I actually found Lychee liquor there!  Need I ...\n",
              "4       4  Thank you,  Barrymore for hosting our wedding ...\n",
              "5       4  Got a small taro snow with red bean and conden...\n",
              "6       4  When my husband and I first moved here, we saw...\n",
              "7       4  I don't know why the other review was so disap...\n",
              "8       4  This place is super packed on Saturday & Sunda...\n",
              "9       4  The food and the service was great. A good kic...\n",
              "10      0  This restaurant is mediocre Chinese type at be...\n",
              "11      0  Fukuda is closed. It's now Lomito, a South Ame...\n",
              "12      0  First they don't carry any tall sizes.  Americ...\n",
              "13      0  Arrived at hotel and went to Lucky Bar to play...\n",
              "14      0  I have been to all of the super pawns in town ..."
            ]
          },
          "execution_count": 2,
          "metadata": {},
          "output_type": "execute_result"
        }
      ],
      "source": [
        "df.head(15)"
      ]
    },
    {
      "cell_type": "code",
      "execution_count": 3,
      "metadata": {
        "colab": {
          "base_uri": "https://localhost:8080/"
        },
        "id": "7Wnvbh8UhCHJ",
        "outputId": "1cbe19f0-cc3f-456b-dcb7-6ffeb70c7314"
      },
      "outputs": [
        {
          "data": {
            "text/plain": [
              "(100000, 2)"
            ]
          },
          "execution_count": 3,
          "metadata": {},
          "output_type": "execute_result"
        }
      ],
      "source": [
        "df.shape"
      ]
    },
    {
      "cell_type": "code",
      "execution_count": 4,
      "metadata": {
        "id": "1h41uuQGhCJ2"
      },
      "outputs": [],
      "source": [
        "sentiment_mapping = {\n",
        "    0: 'negative',\n",
        "    4: 'positive'\n",
        "}\n",
        "df['label'] = df['label'].map(sentiment_mapping)\n"
      ]
    },
    {
      "cell_type": "code",
      "execution_count": null,
      "metadata": {
        "colab": {
          "base_uri": "https://localhost:8080/",
          "height": 1168
        },
        "id": "DTPOBrzYhCNZ",
        "outputId": "db4be56b-2f90-40fc-874e-477e9bf6fd3c"
      },
      "outputs": [],
      "source": [
        "df"
      ]
    },
    {
      "cell_type": "code",
      "execution_count": 6,
      "metadata": {
        "colab": {
          "base_uri": "https://localhost:8080/"
        },
        "id": "guijDSWHhCSK",
        "outputId": "0aed3c78-b696-42fe-b635-d1c33da18635"
      },
      "outputs": [
        {
          "data": {
            "text/plain": [
              "label    0\n",
              "text     0\n",
              "dtype: int64"
            ]
          },
          "execution_count": 6,
          "metadata": {},
          "output_type": "execute_result"
        }
      ],
      "source": [
        "df.isnull().sum()"
      ]
    },
    {
      "cell_type": "code",
      "execution_count": 7,
      "metadata": {
        "colab": {
          "base_uri": "https://localhost:8080/"
        },
        "id": "dl2NhX0uhCU3",
        "outputId": "fb1709a1-cc3e-4c2b-d986-d005124676e2"
      },
      "outputs": [
        {
          "data": {
            "text/plain": [
              "positive    50000\n",
              "negative    50000\n",
              "Name: label, dtype: int64"
            ]
          },
          "execution_count": 7,
          "metadata": {},
          "output_type": "execute_result"
        }
      ],
      "source": [
        "df['label'].value_counts()"
      ]
    },
    {
      "cell_type": "code",
      "execution_count": 8,
      "metadata": {
        "colab": {
          "base_uri": "https://localhost:8080/"
        },
        "id": "gsaP85UchCX0",
        "outputId": "ecb57344-98c2-4baa-9f5b-18d3beb44fca"
      },
      "outputs": [
        {
          "name": "stderr",
          "output_type": "stream",
          "text": [
            "[nltk_data] Downloading package punkt to /root/nltk_data...\n",
            "[nltk_data]   Package punkt is already up-to-date!\n",
            "[nltk_data] Downloading package stopwords to /root/nltk_data...\n",
            "[nltk_data]   Package stopwords is already up-to-date!\n"
          ]
        }
      ],
      "source": [
        "import re\n",
        "import string\n",
        "from nltk.stem import WordNetLemmatizer\n",
        "from nltk.tokenize import word_tokenize\n",
        "from nltk.corpus import stopwords\n",
        "from nltk.stem import PorterStemmer\n",
        "stemmer = PorterStemmer()\n",
        "import nltk\n",
        "nltk.download('punkt')\n",
        "nltk.download('stopwords')\n",
        "\n",
        "def clean_text(text):\n",
        "    text = re.sub(r'http\\S+', '', text)       # Remove URLs\n",
        "    text = re.sub(r'@[\\w]+', '', text)        # Remove usernames\n",
        "    text = re.sub(r'[^a-zA-Z\\s]', '', text)   # Remove special characters and numbers\n",
        "    text = re.sub(r'\\s+', ' ', text)          # Remove extra whitespaces\n",
        "    text = text.lower()                       # Convert to lowercase\n",
        "    tokens = word_tokenize(text)               # Tokenization\n",
        "    stop_words = set(stopwords.words('english'))\n",
        "    tokens = [stemmer.stem(word) for word in tokens if word not in stop_words]\n",
        "    cleaned_text = ' '.join(tokens)\n",
        "    return cleaned_text"
      ]
    },
    {
      "cell_type": "code",
      "execution_count": 9,
      "metadata": {
        "id": "Col7YEV7hCbC"
      },
      "outputs": [],
      "source": [
        "# Negated sentence transformation function\n",
        "import spacy\n",
        "nlp = spacy.load(\"en_core_web_sm\")\n",
        "\n",
        "def negate_sentence(sentence):\n",
        "    # Parse the sentence with spacy\n",
        "    doc = nlp(sentence)\n",
        "\n",
        "    # Initialize a set to store tokens affected by negation\n",
        "    negated_tokens = set()\n",
        "\n",
        "    # Iterate over tokens in the sentence\n",
        "    for token in doc:\n",
        "        # If the token is a negation\n",
        "        if token.dep_ == \"neg\":\n",
        "            # Mark the token and its descendants as negated\n",
        "            negated_tokens.add(token)\n",
        "            for child in token.children:\n",
        "                negated_tokens.add(child)\n",
        "            for ancestor in token.ancestors:\n",
        "                negated_tokens.add(ancestor)\n",
        "\n",
        "    # Transform each token in the sentence, marking negated tokens with \"not_\"\n",
        "    result = [\"not_\" + token.text if token in negated_tokens else token.text for token in doc]\n",
        "\n",
        "    # Join the transformed tokens with spaces and return the transformed sentence\n",
        "    return \" \".join(result)"
      ]
    },
    {
      "cell_type": "code",
      "execution_count": 10,
      "metadata": {
        "id": "G-Oa9R47hCds"
      },
      "outputs": [],
      "source": [
        "df['text'] = df['text'].apply(negate_sentence)"
      ]
    },
    {
      "cell_type": "code",
      "execution_count": 11,
      "metadata": {
        "id": "rGdvX9_uhCgN"
      },
      "outputs": [],
      "source": [
        "df['text'] = df['text'].apply(clean_text)"
      ]
    },
    {
      "cell_type": "code",
      "execution_count": 42,
      "metadata": {
        "colab": {
          "base_uri": "https://localhost:8080/"
        },
        "id": "aDde2bJ0hCiq",
        "outputId": "6943d0c9-1e87-4f03-e60d-fa8d3a8a3a91"
      },
      "outputs": [
        {
          "name": "stdout",
          "output_type": "stream",
          "text": [
            "       label                                               text\n",
            "0   positive  time want sushi yama place go roll excel eat d...\n",
            "1   positive  peopl stop order texmex type food mexico citi ...\n",
            "2   negative  greet door nice wait patient associ get shirt ...\n",
            "3   positive  actual found lyche liquor need say morenny wou...\n",
            "4   positive  thank barrymor host wed recept gold room every...\n",
            "5   positive  got small taro snow red bean condens milk deli...\n",
            "6   positive  husband first move saw place laugh sushi fever...\n",
            "7   positive  notnt notknow review disappoint teppan onion v...\n",
            "8   positive  place super pack saturday sunday morn rain shi...\n",
            "9   positive  food servic great good kick spot friend famili...\n",
            "10  negative  restaur mediocr chines type best order green c...\n",
            "11  negative  fukuda close lomito south american restaur nnn...\n",
            "12  negative  first notnt notcarri tall size american get ta...\n",
            "13  negative  arriv hotel went lucki bar play video poker dr...\n",
            "14  negative  super pawn town one worst custom servic find f...\n"
          ]
        }
      ],
      "source": [
        "print(df.head(15))"
      ]
    },
    {
      "cell_type": "code",
      "execution_count": 41,
      "metadata": {
        "colab": {
          "base_uri": "https://localhost:8080/",
          "height": 430
        },
        "id": "trUPmFu4a1CW",
        "outputId": "85b5ecd4-8337-4bcd-f475-15871fbd01e3"
      },
      "outputs": [
        {
          "data": {
            "image/png": "[encoded data removed]",
            "text/plain": [
              "<Figure size 640x480 with 1 Axes>"
            ]
          },
          "metadata": {},
          "output_type": "display_data"
        }
      ],
      "source": [
        "from matplotlib import pyplot as plt\n",
        "import seaborn as sns\n",
        "df.groupby('label').size().plot(kind='barh', color=sns.palettes.mpl_palette('Dark2'))\n",
        "plt.gca().spines[['top', 'right',]].set_visible(False)"
      ]
    },
    {
      "cell_type": "code",
      "execution_count": 23,
      "metadata": {
        "id": "gcHzN2Q5hClf"
      },
      "outputs": [],
      "source": [
        "df.to_csv('preprocessed_final.csv', index=False)\n"
      ]
    },
    {
      "cell_type": "code",
      "execution_count": 13,
      "metadata": {
        "id": "dM-tejUqhCo4"
      },
      "outputs": [],
      "source": [
        "from sklearn.feature_extraction.text import TfidfVectorizer\n",
        "from sklearn.model_selection import train_test_split\n",
        "from sklearn.metrics import accuracy_score, classification_report\n",
        "from sklearn.linear_model import LogisticRegression\n",
        "from sklearn.ensemble import RandomForestClassifier\n",
        "from sklearn.naive_bayes import MultinomialNB\n",
        "from sklearn.svm import SVC\n",
        "from gensim.models import Word2Vec\n"
      ]
    },
    {
      "cell_type": "code",
      "execution_count": 14,
      "metadata": {
        "id": "4G6E0R07hzUs"
      },
      "outputs": [],
      "source": [
        "tfidf_vectorizer = TfidfVectorizer(max_features=25000, ngram_range=(1, 2))\n",
        "X_tfidf = tfidf_vectorizer.fit_transform(df['text'])"
      ]
    },
    {
      "cell_type": "code",
      "execution_count": 15,
      "metadata": {
        "id": "phkdQPfKhzXu"
      },
      "outputs": [],
      "source": [
        "X_train_tfidf, X_test_tfidf, y_train, y_test = train_test_split(X_tfidf, df['label'], test_size=0.2, random_state=42 )"
      ]
    },
    {
      "cell_type": "code",
      "execution_count": 16,
      "metadata": {
        "colab": {
          "base_uri": "https://localhost:8080/"
        },
        "id": "s_jzRYG0i0JW",
        "outputId": "12776d3a-5a6a-4fcb-d177-d98ce3957b79"
      },
      "outputs": [
        {
          "name": "stdout",
          "output_type": "stream",
          "text": [
            "(80000, 25000) (20000, 25000)\n"
          ]
        }
      ],
      "source": [
        "print(X_train_tfidf.shape,X_test_tfidf.shape)"
      ]
    },
    {
      "cell_type": "code",
      "execution_count": 17,
      "metadata": {
        "colab": {
          "base_uri": "https://localhost:8080/"
        },
        "id": "sbBxE_xvjIkJ",
        "outputId": "a7dee710-4dc0-4efa-fa53-924f588b72a8"
      },
      "outputs": [
        {
          "name": "stdout",
          "output_type": "stream",
          "text": [
            "  (0, 5969)\t0.1441124400132108\n",
            "  (0, 9832)\t0.3277607048657763\n",
            "  (0, 9494)\t0.13079591831156706\n",
            "  (0, 9167)\t0.15776558568533688\n",
            "  (0, 23854)\t0.1469376847525478\n",
            "  (0, 5990)\t0.12692297891949317\n",
            "  (0, 14200)\t0.1562811218117381\n",
            "  (0, 13087)\t0.129823354132807\n",
            "  (0, 7866)\t0.13079591831156706\n",
            "  (0, 13363)\t0.2927780491438157\n",
            "  (0, 24320)\t0.12267012521121548\n",
            "  (0, 12522)\t0.1391810028797198\n",
            "  (0, 24541)\t0.1455969038868096\n",
            "  (0, 9650)\t0.14932177544563735\n",
            "  (0, 17268)\t0.15725668927455047\n",
            "  (0, 17267)\t0.11184555521418912\n",
            "  (0, 16753)\t0.104815647545787\n",
            "  (0, 7789)\t0.09910122522527211\n",
            "  (0, 6373)\t0.1217836298619266\n",
            "  (0, 4420)\t0.10679509595100836\n",
            "  (0, 3698)\t0.09548225160887187\n",
            "  (0, 14725)\t0.0911563497750108\n",
            "  (0, 15318)\t0.08033342894633098\n",
            "  (0, 1934)\t0.10805695048957846\n",
            "  (0, 4059)\t0.1026525792824017\n",
            "  :\t:\n",
            "  (79999, 2122)\t0.20105341040538752\n",
            "  (79999, 174)\t0.17848926459850692\n",
            "  (79999, 4917)\t0.1423268588755399\n",
            "  (79999, 14129)\t0.1691007182828566\n",
            "  (79999, 13925)\t0.16470413592970262\n",
            "  (79999, 24432)\t0.147400836326907\n",
            "  (79999, 22892)\t0.13760993265776122\n",
            "  (79999, 13795)\t0.1378809428517653\n",
            "  (79999, 14123)\t0.14131653747775258\n",
            "  (79999, 11677)\t0.13392525576956504\n",
            "  (79999, 23304)\t0.10081934622246841\n",
            "  (79999, 24870)\t0.1974214995838931\n",
            "  (79999, 1104)\t0.14501411122173335\n",
            "  (79999, 7217)\t0.2599089868116597\n",
            "  (79999, 24094)\t0.08762484583840124\n",
            "  (79999, 7184)\t0.11277954020369182\n",
            "  (79999, 17827)\t0.11614985207558445\n",
            "  (79999, 10209)\t0.1025388753750526\n",
            "  (79999, 19680)\t0.06640031824370968\n",
            "  (79999, 10785)\t0.09896666351382205\n",
            "  (79999, 2977)\t0.12236758253463675\n",
            "  (79999, 18420)\t0.09020890921920952\n",
            "  (79999, 6789)\t0.1274710846030069\n",
            "  (79999, 5999)\t0.119945998765573\n",
            "  (79999, 7915)\t0.06719366517090823\n"
          ]
        }
      ],
      "source": [
        "print(X_train_tfidf)"
      ]
    },
    {
      "cell_type": "code",
      "execution_count": 18,
      "metadata": {
        "colab": {
          "base_uri": "https://localhost:8080/"
        },
        "id": "UKhkS69XjMEc",
        "outputId": "0e24dca6-0802-432a-e128-e00bf9ad154d"
      },
      "outputs": [
        {
          "name": "stdout",
          "output_type": "stream",
          "text": [
            "75220    positive\n",
            "48955    negative\n",
            "44966    negative\n",
            "13568    negative\n",
            "92727    negative\n",
            "           ...   \n",
            "6265     positive\n",
            "54886    positive\n",
            "76820    positive\n",
            "860      positive\n",
            "15795    negative\n",
            "Name: label, Length: 80000, dtype: object\n"
          ]
        }
      ],
      "source": [
        "print(y_train)"
      ]
    },
    {
      "cell_type": "code",
      "execution_count": 19,
      "metadata": {
        "colab": {
          "base_uri": "https://localhost:8080/"
        },
        "id": "DPHlNjhzhzbI",
        "outputId": "f34a5825-ec46-4ebb-9d77-91798c1d44ee"
      },
      "outputs": [
        {
          "name": "stdout",
          "output_type": "stream",
          "text": [
            "Accuracy: 0.9664\n",
            "Classification Report:\n",
            "              precision    recall  f1-score   support\n",
            "\n",
            "    negative       0.96      0.97      0.97      9922\n",
            "    positive       0.97      0.96      0.97     10078\n",
            "\n",
            "    accuracy                           0.97     20000\n",
            "   macro avg       0.97      0.97      0.97     20000\n",
            "weighted avg       0.97      0.97      0.97     20000\n",
            "\n"
          ]
        }
      ],
      "source": [
        "lr_model = LogisticRegression(max_iter=1000)\n",
        "lr_model.fit(X_train_tfidf, y_train)\n",
        "y_pred = lr_model.predict(X_test_tfidf)\n",
        "\n",
        "accuracy = accuracy_score(y_test, y_pred)\n",
        "print(\"Accuracy:\", accuracy)\n",
        "print(\"Classification Report:\")\n",
        "print(classification_report(y_test, y_pred))"
      ]
    },
    {
      "cell_type": "code",
      "execution_count": 20,
      "metadata": {
        "colab": {
          "base_uri": "https://localhost:8080/"
        },
        "id": "_ocr9kfuhzuK",
        "outputId": "7db9817c-a025-4eb8-ecc3-1324c00338bd"
      },
      "outputs": [
        {
          "name": "stdout",
          "output_type": "stream",
          "text": [
            "Accuracy: 0.9428\n",
            "Classification Report:\n",
            "              precision    recall  f1-score   support\n",
            "\n",
            "    negative       0.93      0.96      0.94      9922\n",
            "    positive       0.96      0.93      0.94     10078\n",
            "\n",
            "    accuracy                           0.94     20000\n",
            "   macro avg       0.94      0.94      0.94     20000\n",
            "weighted avg       0.94      0.94      0.94     20000\n",
            "\n"
          ]
        }
      ],
      "source": [
        "rf_model = RandomForestClassifier(n_estimators=100)\n",
        "rf_model.fit(X_train_tfidf, y_train)\n",
        "y_pred = rf_model.predict(X_test_tfidf)\n",
        "\n",
        "accuracy = accuracy_score(y_test, y_pred)\n",
        "print(\"Accuracy:\", accuracy)\n",
        "print(\"Classification Report:\")\n",
        "print(classification_report(y_test, y_pred))"
      ]
    },
    {
      "cell_type": "code",
      "execution_count": 21,
      "metadata": {
        "colab": {
          "base_uri": "https://localhost:8080/"
        },
        "id": "Tt6lCB_uiOHX",
        "outputId": "2966b23b-dc55-49e2-8180-384b1e9a12c1"
      },
      "outputs": [
        {
          "name": "stdout",
          "output_type": "stream",
          "text": [
            "Multinomial Naive Bayes Accuracy: 0.949\n",
            "Multinomial Naive Bayes Classification Report:\n",
            "              precision    recall  f1-score   support\n",
            "\n",
            "    negative       0.94      0.96      0.95      9922\n",
            "    positive       0.96      0.94      0.95     10078\n",
            "\n",
            "    accuracy                           0.95     20000\n",
            "   macro avg       0.95      0.95      0.95     20000\n",
            "weighted avg       0.95      0.95      0.95     20000\n",
            "\n"
          ]
        }
      ],
      "source": [
        "nb_model = MultinomialNB()\n",
        "nb_model.fit(X_train_tfidf, y_train)\n",
        "y_pred_nb = nb_model.predict(X_test_tfidf)\n",
        "accuracy_nb = accuracy_score(y_test, y_pred_nb)\n",
        "print(\"Multinomial Naive Bayes Accuracy:\", accuracy_nb)\n",
        "print(\"Multinomial Naive Bayes Classification Report:\")\n",
        "print(classification_report(y_test, y_pred_nb))"
      ]
    },
    {
      "cell_type": "code",
      "execution_count": 22,
      "metadata": {
        "colab": {
          "base_uri": "https://localhost:8080/"
        },
        "id": "C2GfkcqviOXS",
        "outputId": "c455042b-5997-41bb-96d6-bd37d7ba9c90"
      },
      "outputs": [
        {
          "data": {
            "text/plain": [
              "['tfidf_vectorizer.pkl']"
            ]
          },
          "execution_count": 22,
          "metadata": {},
          "output_type": "execute_result"
        }
      ],
      "source": [
        "import joblib\n",
        "joblib.dump(lr_model, 'logistic_regression_model.pkl')\n",
        "joblib.dump(nb_model, 'multinomial_nb_model.pkl')\n",
        "joblib.dump(rf_model, 'random_forest_model.pkl')\n",
        "joblib.dump(tfidf_vectorizer, 'tfidf_vectorizer.pkl')\n"
      ]
    },
    {
      "cell_type": "code",
      "execution_count": 28,
      "metadata": {
        "colab": {
          "base_uri": "https://localhost:8080/"
        },
        "id": "TicdALOdiOhr",
        "outputId": "b5c59237-cb32-4215-b01d-913f9eb0d50d"
      },
      "outputs": [
        {
          "name": "stdout",
          "output_type": "stream",
          "text": [
            "Predicted Sentiment: positive\n",
            "Predicted Sentiment: positive\n",
            "Predicted Sentiment: positive\n"
          ]
        }
      ],
      "source": [
        "custom_input = \"i recommend this product . very happy\"\n",
        "\n",
        "cleaned_custom_input = negate_sentence(custom_input)\n",
        "cleaned_custom_input = clean_text(cleaned_custom_input)\n",
        "tfidf_custom_input = tfidf_vectorizer.transform([cleaned_custom_input])\n",
        "sentiment1 = lr_model.predict(tfidf_custom_input)[0]\n",
        "sentiment2 = nb_model.predict(tfidf_custom_input)[0]\n",
        "sentiment3 = rf_model.predict(tfidf_custom_input)[0]\n",
        "\n",
        "print(\"Predicted Sentiment:\", sentiment1)\n",
        "print(\"Predicted Sentiment:\", sentiment2)\n",
        "print(\"Predicted Sentiment:\", sentiment3)\n",
        "\n"
      ]
    },
    {
      "cell_type": "code",
      "execution_count": 39,
      "metadata": {
        "colab": {
          "base_uri": "https://localhost:8080/"
        },
        "id": "I5wCIJUMXB1f",
        "outputId": "f05cf2cc-c0dd-409f-868a-1be21e485bee"
      },
      "outputs": [
        {
          "name": "stdout",
          "output_type": "stream",
          "text": [
            "Predicted Sentiment: positive\n",
            "Predicted Sentiment: negative\n",
            "Predicted Sentiment: negative\n"
          ]
        }
      ],
      "source": [
        "custom_input = \"i will  recommend this product . its wasn't working properly\"\n",
        "cleaned_custom_input = negate_sentence(custom_input)\n",
        "cleaned_custom_input = clean_text(cleaned_custom_input)\n",
        "tfidf_custom_input = tfidf_vectorizer.transform([cleaned_custom_input])\n",
        "sentiment1 = lr_model.predict(tfidf_custom_input)[0]\n",
        "sentiment2 = nb_model.predict(tfidf_custom_input)[0]\n",
        "sentiment3 = rf_model.predict(tfidf_custom_input)[0]\n",
        "\n",
        "print(\"Predicted Sentiment:\", sentiment1)\n",
        "print(\"Predicted Sentiment:\", sentiment2)\n",
        "print(\"Predicted Sentiment:\", sentiment3)\n",
        "\n"
      ]
    },
    {
      "cell_type": "markdown",
      "metadata": {
        "id": "yPH4kmck9xx6"
      },
      "source": [
        "# New Section"
      ]
    }
  ],
  "metadata": {
    "accelerator": "TPU",
    "colab": {
      "provenance": []
    },
    "kernelspec": {
      "display_name": "Python 3",
      "name": "python3"
    },
    "language_info": {
      "name": "python"
    }
  },
  "nbformat": 4,
  "nbformat_minor": 0
}
